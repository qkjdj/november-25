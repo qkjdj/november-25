{
 "cells": [
  {
   "cell_type": "code",
   "execution_count": 13,
   "metadata": {},
   "outputs": [],
   "source": [
    "import pandas as pd\n",
    "\n",
    "def find_file(file_path):\n",
    "    try:\n",
    "       df = pd.read_csv(file_path)\n",
    "       return df\n",
    "    except FileNotFoundError:\n",
    "        print(\"Given file not found\")"
   ]
  },
  {
   "cell_type": "code",
   "execution_count": null,
   "metadata": {},
   "outputs": [],
   "source": []
  },
  {
   "cell_type": "code",
   "execution_count": null,
   "metadata": {},
   "outputs": [],
   "source": []
  },
  {
   "cell_type": "code",
   "execution_count": 17,
   "metadata": {},
   "outputs": [
    {
     "data": {
      "text/html": [
       "<div>\n",
       "<style scoped>\n",
       "    .dataframe tbody tr th:only-of-type {\n",
       "        vertical-align: middle;\n",
       "    }\n",
       "\n",
       "    .dataframe tbody tr th {\n",
       "        vertical-align: top;\n",
       "    }\n",
       "\n",
       "    .dataframe thead th {\n",
       "        text-align: right;\n",
       "    }\n",
       "</style>\n",
       "<table border=\"1\" class=\"dataframe\">\n",
       "  <thead>\n",
       "    <tr style=\"text-align: right;\">\n",
       "      <th></th>\n",
       "      <th>SR.</th>\n",
       "      <th>NAME</th>\n",
       "      <th>GENDER</th>\n",
       "      <th>AGE</th>\n",
       "      <th>DATE</th>\n",
       "      <th>COUNTRY</th>\n",
       "    </tr>\n",
       "  </thead>\n",
       "  <tbody>\n",
       "    <tr>\n",
       "      <th>0</th>\n",
       "      <td>1.0</td>\n",
       "      <td>Dett</td>\n",
       "      <td>Male</td>\n",
       "      <td>18.0</td>\n",
       "      <td>21/05/2015</td>\n",
       "      <td>Great Britain</td>\n",
       "    </tr>\n",
       "    <tr>\n",
       "      <th>1</th>\n",
       "      <td>2.0</td>\n",
       "      <td>Nern</td>\n",
       "      <td>Female</td>\n",
       "      <td>19.0</td>\n",
       "      <td>15/10/2017</td>\n",
       "      <td>France</td>\n",
       "    </tr>\n",
       "    <tr>\n",
       "      <th>2</th>\n",
       "      <td>3.0</td>\n",
       "      <td>Kallsie</td>\n",
       "      <td>Male</td>\n",
       "      <td>20.0</td>\n",
       "      <td>16/08/2016</td>\n",
       "      <td>France</td>\n",
       "    </tr>\n",
       "    <tr>\n",
       "      <th>3</th>\n",
       "      <td>4.0</td>\n",
       "      <td>Siuau</td>\n",
       "      <td>Female</td>\n",
       "      <td>21.0</td>\n",
       "      <td>21/05/2015</td>\n",
       "      <td>Great Britain</td>\n",
       "    </tr>\n",
       "    <tr>\n",
       "      <th>4</th>\n",
       "      <td>5.0</td>\n",
       "      <td>Shennice</td>\n",
       "      <td>Male</td>\n",
       "      <td>22.0</td>\n",
       "      <td>21/05/2016</td>\n",
       "      <td>France</td>\n",
       "    </tr>\n",
       "    <tr>\n",
       "      <th>...</th>\n",
       "      <td>...</td>\n",
       "      <td>...</td>\n",
       "      <td>...</td>\n",
       "      <td>...</td>\n",
       "      <td>...</td>\n",
       "      <td>...</td>\n",
       "    </tr>\n",
       "    <tr>\n",
       "      <th>15718</th>\n",
       "      <td>NaN</td>\n",
       "      <td>NaN</td>\n",
       "      <td>NaN</td>\n",
       "      <td>NaN</td>\n",
       "      <td>NaN</td>\n",
       "      <td>NaN</td>\n",
       "    </tr>\n",
       "    <tr>\n",
       "      <th>15719</th>\n",
       "      <td>NaN</td>\n",
       "      <td>NaN</td>\n",
       "      <td>NaN</td>\n",
       "      <td>NaN</td>\n",
       "      <td>NaN</td>\n",
       "      <td>NaN</td>\n",
       "    </tr>\n",
       "    <tr>\n",
       "      <th>15720</th>\n",
       "      <td>NaN</td>\n",
       "      <td>NaN</td>\n",
       "      <td>NaN</td>\n",
       "      <td>NaN</td>\n",
       "      <td>NaN</td>\n",
       "      <td>NaN</td>\n",
       "    </tr>\n",
       "    <tr>\n",
       "      <th>15721</th>\n",
       "      <td>NaN</td>\n",
       "      <td>NaN</td>\n",
       "      <td>NaN</td>\n",
       "      <td>NaN</td>\n",
       "      <td>NaN</td>\n",
       "      <td>NaN</td>\n",
       "    </tr>\n",
       "    <tr>\n",
       "      <th>15722</th>\n",
       "      <td>NaN</td>\n",
       "      <td>NaN</td>\n",
       "      <td>NaN</td>\n",
       "      <td>NaN</td>\n",
       "      <td>NaN</td>\n",
       "      <td>NaN</td>\n",
       "    </tr>\n",
       "  </tbody>\n",
       "</table>\n",
       "<p>15723 rows × 6 columns</p>\n",
       "</div>"
      ],
      "text/plain": [
       "       SR.      NAME  GENDER   AGE       DATE         COUNTRY\n",
       "0      1.0      Dett    Male  18.0  21/05/2015  Great Britain\n",
       "1      2.0     Nern   Female  19.0  15/10/2017         France\n",
       "2      3.0   Kallsie    Male  20.0  16/08/2016         France\n",
       "3      4.0     Siuau  Female  21.0  21/05/2015  Great Britain\n",
       "4      5.0  Shennice    Male  22.0  21/05/2016         France\n",
       "...    ...       ...     ...   ...         ...            ...\n",
       "15718  NaN       NaN     NaN   NaN         NaN            NaN\n",
       "15719  NaN       NaN     NaN   NaN         NaN            NaN\n",
       "15720  NaN       NaN     NaN   NaN         NaN            NaN\n",
       "15721  NaN       NaN     NaN   NaN         NaN            NaN\n",
       "15722  NaN       NaN     NaN   NaN         NaN            NaN\n",
       "\n",
       "[15723 rows x 6 columns]"
      ]
     },
     "execution_count": 17,
     "metadata": {},
     "output_type": "execute_result"
    }
   ],
   "source": [
    "df = find_file('data/test.csv')\n",
    "df"
   ]
  },
  {
   "cell_type": "code",
   "execution_count": 18,
   "metadata": {},
   "outputs": [],
   "source": [
    "def divide_vals(numerator, denominator):\n",
    "    '''\n",
    "    Args:\n",
    "        numerator: (float) numerator of fraction\n",
    "        denominator: (float) denominator of fraction\n",
    "\n",
    "    Returns:\n",
    "        fraction_val: (float) numerator/denominator\n",
    "    '''\n",
    "    # try to return the fraction but if the denominator is zero\n",
    "    # catch the error and return a string saying: \n",
    "    # \"denominator cannot be zero\"\n",
    "    try:\n",
    "        fraction_val= numerator/ denominator\n",
    "        return fraction_val\n",
    "    \n",
    "    except :\n",
    "        print('\"denominator cannot be zero\"')\n",
    "        "
   ]
  },
  {
   "cell_type": "code",
   "execution_count": 20,
   "metadata": {},
   "outputs": [
    {
     "data": {
      "text/plain": [
       "1.0"
      ]
     },
     "execution_count": 20,
     "metadata": {},
     "output_type": "execute_result"
    }
   ],
   "source": [
    "divide_vals(2,2)"
   ]
  },
  {
   "cell_type": "code",
   "execution_count": 28,
   "metadata": {},
   "outputs": [],
   "source": [
    "def num_words(text):\n",
    "    '''\n",
    "    Args:\n",
    "        text: (string) string of words\n",
    "\n",
    "    Returns:\n",
    "        num_words: (int) number of words in the string\n",
    "    '''\n",
    "    # try to split based on spaces and return num of words\n",
    "    # but if text isnt a string return \"text argument must be a string\"\n",
    "    try:\n",
    "        name = len(text.split())\n",
    "        return name\n",
    "    except:\n",
    "        print('text argument must be a string')"
   ]
  },
  {
   "cell_type": "code",
   "execution_count": 30,
   "metadata": {},
   "outputs": [
    {
     "data": {
      "text/plain": [
       "1"
      ]
     },
     "execution_count": 30,
     "metadata": {},
     "output_type": "execute_result"
    }
   ],
   "source": [
    "num_words('JamesBond')"
   ]
  },
  {
   "cell_type": "code",
   "execution_count": 5,
   "metadata": {},
   "outputs": [
    {
     "data": {
      "text/plain": [
       "25"
      ]
     },
     "execution_count": 5,
     "metadata": {},
     "output_type": "execute_result"
    }
   ],
   "source": [
    "from square import sqare_num\n",
    "sqare_num(5)"
   ]
  },
  {
   "cell_type": "code",
   "execution_count": null,
   "metadata": {},
   "outputs": [],
   "source": []
  }
 ],
 "metadata": {
  "kernelspec": {
   "display_name": "Python 3",
   "language": "python",
   "name": "python3"
  },
  "language_info": {
   "codemirror_mode": {
    "name": "ipython",
    "version": 3
   },
   "file_extension": ".py",
   "mimetype": "text/x-python",
   "name": "python",
   "nbconvert_exporter": "python",
   "pygments_lexer": "ipython3",
   "version": "3.11.5"
  },
  "orig_nbformat": 4
 },
 "nbformat": 4,
 "nbformat_minor": 2
}
